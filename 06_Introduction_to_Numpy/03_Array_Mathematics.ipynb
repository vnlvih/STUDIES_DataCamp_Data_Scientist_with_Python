{
 "cells": [
  {
   "cell_type": "code",
   "execution_count": 1,
   "metadata": {},
   "outputs": [],
   "source": [
    "import numpy as np\n",
    "import pandas as pd\n",
    "import matplotlib.pyplot as plt"
   ]
  },
  {
   "cell_type": "markdown",
   "metadata": {},
   "source": [
    "### Sales totals\n",
    "The dataset you'll be working with during this chapter is one year's sales data by month for three different industries. Each row in this monthly_sales array represents a month from January to December. The first column has monthly sales data for liquor stores, the second column has data for restaurants, and the last column tracks sales for department stores.\n",
    "Your task is to create an array with all the information from monthly_sales as well as a fourth column which totals the monthly sales across industries for each month."
   ]
  },
  {
   "cell_type": "code",
   "execution_count": 2,
   "metadata": {},
   "outputs": [],
   "source": [
    "monthly_sales = np.load(r'datasets\\monthly_sales.npy')"
   ]
  },
  {
   "cell_type": "code",
   "execution_count": 3,
   "metadata": {},
   "outputs": [
    {
     "data": {
      "text/plain": [
       "array([[ 4134, 23925,  8657],\n",
       "       [ 4116, 23875,  9142],\n",
       "       [ 4673, 27197, 10645],\n",
       "       [ 4580, 25637, 10456],\n",
       "       [ 5109, 27995, 11299],\n",
       "       [ 5011, 27419, 10625],\n",
       "       [ 5245, 27305, 10630],\n",
       "       [ 5270, 27760, 11550],\n",
       "       [ 4680, 24988,  9762],\n",
       "       [ 4913, 25802, 10456],\n",
       "       [ 5312, 25405, 13401],\n",
       "       [ 6630, 27797, 18403]], dtype=int64)"
      ]
     },
     "execution_count": 3,
     "metadata": {},
     "output_type": "execute_result"
    }
   ],
   "source": [
    "monthly_sales"
   ]
  },
  {
   "cell_type": "code",
   "execution_count": 8,
   "metadata": {},
   "outputs": [
    {
     "name": "stdout",
     "output_type": "stream",
     "text": [
      "[[36716]\n",
      " [37133]\n",
      " [42515]\n",
      " [40673]\n",
      " [44403]\n",
      " [43055]\n",
      " [43180]\n",
      " [44580]\n",
      " [39430]\n",
      " [41171]\n",
      " [44118]\n",
      " [52830]]\n"
     ]
    }
   ],
   "source": [
    "# Create a 2D array which contains a single column of total monthly sales across industries; call it monthly_industry_sales.\n",
    "# Create a 2D array of total monthly sales across industries\n",
    "monthly_industry_sales = monthly_sales.sum(axis=1, keepdims=True)\n",
    "print(monthly_industry_sales)"
   ]
  },
  {
   "cell_type": "code",
   "execution_count": 10,
   "metadata": {},
   "outputs": [
    {
     "data": {
      "text/plain": [
       "((12, 3), (12, 1))"
      ]
     },
     "execution_count": 10,
     "metadata": {},
     "output_type": "execute_result"
    }
   ],
   "source": [
    "monthly_sales.shape,monthly_industry_sales.shape"
   ]
  },
  {
   "cell_type": "code",
   "execution_count": 11,
   "metadata": {},
   "outputs": [
    {
     "name": "stdout",
     "output_type": "stream",
     "text": [
      "[[ 4134 23925  8657 36716]\n",
      " [ 4116 23875  9142 37133]\n",
      " [ 4673 27197 10645 42515]\n",
      " [ 4580 25637 10456 40673]\n",
      " [ 5109 27995 11299 44403]\n",
      " [ 5011 27419 10625 43055]\n",
      " [ 5245 27305 10630 43180]\n",
      " [ 5270 27760 11550 44580]\n",
      " [ 4680 24988  9762 39430]\n",
      " [ 4913 25802 10456 41171]\n",
      " [ 5312 25405 13401 44118]\n",
      " [ 6630 27797 18403 52830]]\n"
     ]
    }
   ],
   "source": [
    "# Concatenate monthly_industry_sales with monthly_sales into a new array called monthly_sales_with_total, with the monthly cross-industry sales information in the final column.\n",
    "# Add this column as the last column in monthly_sales\n",
    "monthly_sales_with_total = np.concatenate((monthly_sales,monthly_industry_sales),axis=1)\n",
    "print(monthly_sales_with_total)"
   ]
  },
  {
   "cell_type": "markdown",
   "metadata": {},
   "source": [
    "### Plotting averages\n",
    "Perhaps you have a hunch that department stores see greater increased sales than average during the end of the year as people rush to buy gifts. You'd like to test this theory by comparing monthly department store sales to average sales across all three industries.\n",
    "\n",
    "numpy is loaded for you as np, and the monthly_sales array is available. The monthly_sales columns in order refer to liquor store, restaurant, and department store sales."
   ]
  },
  {
   "cell_type": "code",
   "execution_count": 16,
   "metadata": {},
   "outputs": [
    {
     "name": "stdout",
     "output_type": "stream",
     "text": [
      "[12238.66666667 12377.66666667 14171.66666667 13557.66666667\n",
      " 14801.         14351.66666667 14393.33333333 14860.\n",
      " 13143.33333333 13723.66666667 14706.         17610.        ]\n"
     ]
    }
   ],
   "source": [
    "# Create a 1D array called avg_monthly_sales, which contains an average sales amount for each month across the three industries.\n",
    "# Create the 1D array avg_monthly_sales\n",
    "avg_monthly_sales = monthly_sales.mean(axis=1)\n",
    "print(avg_monthly_sales)"
   ]
  },
  {
   "cell_type": "code",
   "execution_count": 22,
   "metadata": {},
   "outputs": [
    {
     "data": {
      "text/plain": [
       "array([ 8657,  9142, 10645, 10456, 11299, 10625, 10630, 11550,  9762,\n",
       "       10456, 13401, 18403], dtype=int64)"
      ]
     },
     "execution_count": 22,
     "metadata": {},
     "output_type": "execute_result"
    }
   ],
   "source": [
    "monthly_sales[:,2]"
   ]
  },
  {
   "cell_type": "code",
   "execution_count": 23,
   "metadata": {},
   "outputs": [
    {
     "data": {
      "image/png": "[encoded data removed]",
      "text/plain": [
       "<Figure size 432x288 with 1 Axes>"
      ]
     },
     "metadata": {
      "needs_background": "light"
     },
     "output_type": "display_data"
    }
   ],
   "source": [
    "# Plot an array of the numbers one through twelve (representing each month) on the x-axis and avg_monthly_sales on the y-axis.\n",
    "# Plot an array of the numbers one through twelve on the x-axis and the department store sales column of monthly_sales on the y-axis.\n",
    "# Plot avg_monthly_sales by month\n",
    "plt.plot(np.arange(1,13), avg_monthly_sales, label=\"Average sales across industries\")\n",
    "\n",
    "# Plot department store sales by month\n",
    "plt.plot(np.arange(1,13), monthly_sales[:,2], label=\"Department store sales\")\n",
    "plt.legend()\n",
    "plt.show()"
   ]
  },
  {
   "cell_type": "markdown",
   "metadata": {},
   "source": [
    "### Cumulative sales\n",
    "In the last exercise, you established that December is a big month for department stores. Are there other months where sales increase or decrease significantly?\n",
    "\n",
    "Your task now is to look at monthly cumulative sales for each industry. The slope of the cumulative sales line will explain a lot about how steady sales are over time: a straight line will indicate steady growth, and changes in slope will indicate relative increases or decreases in sales."
   ]
  },
  {
   "cell_type": "code",
   "execution_count": 25,
   "metadata": {},
   "outputs": [
    {
     "name": "stdout",
     "output_type": "stream",
     "text": [
      "[[  4134  23925   8657]\n",
      " [  8250  47800  17799]\n",
      " [ 12923  74997  28444]\n",
      " [ 17503 100634  38900]\n",
      " [ 22612 128629  50199]\n",
      " [ 27623 156048  60824]\n",
      " [ 32868 183353  71454]\n",
      " [ 38138 211113  83004]\n",
      " [ 42818 236101  92766]\n",
      " [ 47731 261903 103222]\n",
      " [ 53043 287308 116623]\n",
      " [ 59673 315105 135026]]\n"
     ]
    }
   ],
   "source": [
    "# Find cumulative monthly sales for each industry, saving this data in an array called cumulative_monthly_industry_sales.\n",
    "# Find cumulative monthly sales for each industry\n",
    "cumulative_monthly_industry_sales = monthly_sales.cumsum(axis=0)\n",
    "print(cumulative_monthly_industry_sales)"
   ]
  },
  {
   "cell_type": "code",
   "execution_count": 28,
   "metadata": {},
   "outputs": [
    {
     "data": {
      "image/png": "[encoded data removed]",
      "text/plain": [
       "<Figure size 432x288 with 1 Axes>"
      ]
     },
     "metadata": {
      "needs_background": "light"
     },
     "output_type": "display_data"
    }
   ],
   "source": [
    "# Plot each industry's cumulative sales by month as separate lines, with cumulative sales on the y-axis and month number on the x-axis.\n",
    "# Plot each industry's cumulative sales by month as separate lines\n",
    "plt.plot(np.arange(1, 13), cumulative_monthly_industry_sales[:,0], label=\"Liquor Stores\")\n",
    "plt.plot(np.arange(1, 13), cumulative_monthly_industry_sales[:,1], label=\"Restaurants\")\n",
    "plt.plot(np.arange(1, 13), cumulative_monthly_industry_sales[:,2], label=\"Department stores\")\n",
    "plt.legend()\n",
    "plt.show()"
   ]
  },
  {
   "cell_type": "markdown",
   "metadata": {},
   "source": [
    "### Tax calculations\n",
    "It's possible to use vectorized operations to calculate taxes for the liquor, restaurant, and department store industries! We'll simplify the tax calculation process here and assume that government collects 5% of all sales across these industries as tax revenue."
   ]
  },
  {
   "cell_type": "code",
   "execution_count": 36,
   "metadata": {},
   "outputs": [
    {
     "name": "stdout",
     "output_type": "stream",
     "text": [
      "[[ 206.7  1196.25  432.85]\n",
      " [ 205.8  1193.75  457.1 ]\n",
      " [ 233.65 1359.85  532.25]\n",
      " [ 229.   1281.85  522.8 ]\n",
      " [ 255.45 1399.75  564.95]\n",
      " [ 250.55 1370.95  531.25]\n",
      " [ 262.25 1365.25  531.5 ]\n",
      " [ 263.5  1388.    577.5 ]\n",
      " [ 234.   1249.4   488.1 ]\n",
      " [ 245.65 1290.1   522.8 ]\n",
      " [ 265.6  1270.25  670.05]\n",
      " [ 331.5  1389.85  920.15]]\n"
     ]
    }
   ],
   "source": [
    "# Create an array called tax_collected which calculates tax collected by industry and month by multiplying each element in monthly_sales by 0.05.\n",
    "# Create an array of tax collected by industry and month\n",
    "tax_collected = monthly_sales * 0.05\n",
    "print(tax_collected)"
   ]
  },
  {
   "cell_type": "code",
   "execution_count": 38,
   "metadata": {},
   "outputs": [
    {
     "name": "stdout",
     "output_type": "stream",
     "text": [
      "[[ 4340.7  25121.25  9089.85]\n",
      " [ 4321.8  25068.75  9599.1 ]\n",
      " [ 4906.65 28556.85 11177.25]\n",
      " [ 4809.   26918.85 10978.8 ]\n",
      " [ 5364.45 29394.75 11863.95]\n",
      " [ 5261.55 28789.95 11156.25]\n",
      " [ 5507.25 28670.25 11161.5 ]\n",
      " [ 5533.5  29148.   12127.5 ]\n",
      " [ 4914.   26237.4  10250.1 ]\n",
      " [ 5158.65 27092.1  10978.8 ]\n",
      " [ 5577.6  26675.25 14071.05]\n",
      " [ 6961.5  29186.85 19323.15]]\n"
     ]
    }
   ],
   "source": [
    "# Create an array that keeps track of total_tax_and_revenue collected by each industry and month by adding each element in tax_collected with its corresponding element in monthly_sales.\n",
    "# Create an array of sales revenue plus tax collected by industry and month\n",
    "total_tax_and_revenue = monthly_sales+tax_collected\n",
    "print(total_tax_and_revenue)"
   ]
  },
  {
   "cell_type": "markdown",
   "metadata": {},
   "source": [
    "### Projecting sales\n",
    "You'd like to be able to plan for next year's operations by projecting what sales will be, and you've gathered multipliers specific to each month and industry. These multipliers are saved in an array called monthly_industry_multipliers. For example, the multiplier at monthly_industry_multipliers[0, 0] of 0.98 means that the liquor store industry is projected to have 98% of this January's sales in January of next year.\n",
    "\n",
    "numpy is loaded for you as np, and the monthly_sales and monthly_industry_multipliers arrays are available. The monthly_sales columns in order refer to liquor store, restaurant, and department store sales."
   ]
  },
  {
   "cell_type": "code",
   "execution_count": 40,
   "metadata": {},
   "outputs": [],
   "source": [
    "monthly_industry_multipliers = np.array([[0.98, 1.02, 1.  ],\n",
    "       [1.00, 1.01, 0.97],\n",
    "       [1.06, 1.03, 0.98],\n",
    "       [1.08, 1.01, 0.98],\n",
    "       [1.08, 0.98, 0.98],\n",
    "       [1.1 , 0.99, 0.99],\n",
    "       [1.12, 1.01, 1.  ],\n",
    "       [1.1 , 1.02, 1.  ],\n",
    "       [1.11, 1.01, 1.01],\n",
    "       [1.08, 0.99, 0.97],\n",
    "       [1.09, 1.  , 1.02],\n",
    "       [1.13, 1.03, 1.02]])"
   ]
  },
  {
   "cell_type": "code",
   "execution_count": 43,
   "metadata": {},
   "outputs": [
    {
     "name": "stdout",
     "output_type": "stream",
     "text": [
      "[[ 4051.32 24403.5   8657.  ]\n",
      " [ 4116.   24113.75  8867.74]\n",
      " [ 4953.38 28012.91 10432.1 ]\n",
      " [ 4946.4  25893.37 10246.88]\n",
      " [ 5517.72 27435.1  11073.02]\n",
      " [ 5512.1  27144.81 10518.75]\n",
      " [ 5874.4  27578.05 10630.  ]\n",
      " [ 5797.   28315.2  11550.  ]\n",
      " [ 5194.8  25237.88  9859.62]\n",
      " [ 5306.04 25543.98 10142.32]\n",
      " [ 5790.08 25405.   13669.02]\n",
      " [ 7491.9  28630.91 18771.06]]\n"
     ]
    }
   ],
   "source": [
    "# Create an array called projected_monthly_sales which contains projected sales for all three industries based on the multipliers you have gathered.\n",
    "# Create an array of monthly projected sales for all industries\n",
    "projected_monthly_sales = monthly_sales*monthly_industry_multipliers\n",
    "print(projected_monthly_sales)"
   ]
  },
  {
   "cell_type": "code",
   "execution_count": 46,
   "metadata": {},
   "outputs": [
    {
     "data": {
      "image/png": "[encoded data removed]",
      "text/plain": [
       "<Figure size 432x288 with 1 Axes>"
      ]
     },
     "metadata": {
      "needs_background": "light"
     },
     "output_type": "display_data"
    }
   ],
   "source": [
    "# Create a graph that plots two lines: current liquor store sales by month and projected liquor store sales by month; months will be represented by an array of the numbers one through twelve.\n",
    "# Graph current liquor store sales and projected liquor store sales by month\n",
    "plt.plot(np.arange(1, 13), monthly_sales[:,0], label=\"Current liquor store sales\")\n",
    "plt.plot(np.arange(1, 13), projected_monthly_sales[:,0], label=\"Projected liquor store sales\")\n",
    "plt.legend()\n",
    "plt.show()"
   ]
  },
  {
   "cell_type": "markdown",
   "metadata": {},
   "source": [
    "### Vectorizing .upper()\n",
    "There are many situations where you might want to use Python methods and functions on array elements in NumPy. You can always write a for loop to do this, but vectorized operations are much faster and more efficient, so consider using np.vectorize()!\n",
    "\n",
    "You've got an array called names which contains first and last names:\n",
    "\n",
    "    names = np.array([[\"Izzy\", \"Monica\", \"Marvin\"],\n",
    "                    [\"Weber\", \"Patel\", \"Hernandez\"]])\n",
    "\n",
    "You'd like to use one of the Python methods you learned on DataCamp, .upper(), to make all the letters of every name in the array uppercase. As a reminder, .upper() is a string method, meaning that it must be called on an instance of a string: str.upper()."
   ]
  },
  {
   "cell_type": "code",
   "execution_count": 47,
   "metadata": {},
   "outputs": [],
   "source": [
    "names = np.array([[\"Izzy\", \"Monica\", \"Marvin\"],\n",
    "                  [\"Weber\", \"Patel\", \"Hernandez\"]])"
   ]
  },
  {
   "cell_type": "code",
   "execution_count": 48,
   "metadata": {},
   "outputs": [
    {
     "data": {
      "text/plain": [
       "array([['Izzy', 'Monica', 'Marvin'],\n",
       "       ['Weber', 'Patel', 'Hernandez']], dtype='<U9')"
      ]
     },
     "execution_count": 48,
     "metadata": {},
     "output_type": "execute_result"
    }
   ],
   "source": [
    "names"
   ]
  },
  {
   "cell_type": "code",
   "execution_count": 49,
   "metadata": {},
   "outputs": [
    {
     "name": "stdout",
     "output_type": "stream",
     "text": [
      "[['IZZY' 'MONICA' 'MARVIN']\n",
      " ['WEBER' 'PATEL' 'HERNANDEZ']]\n"
     ]
    }
   ],
   "source": [
    "# Create a vectorized function called vectorized_upper from the Python .upper() string method.\n",
    "# Apply vectorized_upper() to the names array and save the resulting array as uppercase_names.\n",
    "\n",
    "# Vectorize the .upper() string method\n",
    "vectorized_upper = np.vectorize(str.upper)\n",
    "\n",
    "# Apply vectorized_upper to the names array\n",
    "uppercase_names = vectorized_upper(names)\n",
    "print(uppercase_names)"
   ]
  },
  {
   "cell_type": "markdown",
   "metadata": {},
   "source": [
    "### Broadcasting across columns\n",
    "Recall that when broadcasting across columns, NumPy requires you to be explicit that it should broadcast a vertical array, and horizontal and vertical 1D arrays do not exist in NumPy. Instead, you must first create a 2D array to declare that you have vertical data. Then, NumPy creates a copy of this 2D vertical array for each column and applies the desired operation.\n",
    "\n",
    "A Python list called monthly_growth_rate with len() of 12 is available. This list represents monthly year-over-year expected growth for the economy; your task is to use broadcasting to multiply this list by each column in the monthly_sales array."
   ]
  },
  {
   "cell_type": "code",
   "execution_count": 50,
   "metadata": {},
   "outputs": [
    {
     "name": "stdout",
     "output_type": "stream",
     "text": [
      "[[ 4175.34 24164.25  8743.57]\n",
      " [ 4239.48 24591.25  9416.26]\n",
      " [ 4813.19 28012.91 10964.35]\n",
      " [ 4671.6  26149.74 10665.12]\n",
      " [ 5364.45 29394.75 11863.95]\n",
      " [ 5161.33 28241.57 10943.75]\n",
      " [ 5559.7  28943.3  11267.8 ]\n",
      " [ 5480.8  28870.4  12012.  ]\n",
      " [ 4820.4  25737.64 10054.86]\n",
      " [ 5109.52 26834.08 10874.24]\n",
      " [ 5418.24 25913.1  13669.02]\n",
      " [ 6696.3  28074.97 18587.03]]\n"
     ]
    }
   ],
   "source": [
    "# Convert monthly_growth_rate, currently a Python list, into a one-dimensional NumPy array called monthly_growth_1D.\n",
    "# Reshape monthly_growth_1D so that it is broadcastable column-wise across monthly_sales; call the new array monthly_growth_2D.\n",
    "# Using broadcasting, multiply each column in monthly_sales by monthly_growth_2D.\n",
    "monthly_growth_rate = [1.01, 1.03, 1.03, 1.02, 1.05, 1.03, 1.06, 1.04, 1.03, 1.04, 1.02, 1.01]\n",
    "# Convert monthly_growth_rate into a NumPy array\n",
    "monthly_growth_1D = np.array(monthly_growth_rate)\n",
    "\n",
    "# Reshape monthly_growth_1D\n",
    "monthly_growth_2D = monthly_growth_1D.reshape(12,1)\n",
    "\n",
    "# Multiply each column in monthly_sales by monthly_growth_2D\n",
    "print(monthly_sales*monthly_growth_2D)"
   ]
  },
  {
   "cell_type": "markdown",
   "metadata": {},
   "source": [
    "### Broadcasting across rows\n",
    "\n",
    "Assume you're not comfortable being so specific with your estimates. Rather, you'd like to use monthly_industry_multipliers to find a single average multiplier for each industry. Then you'll use that multiplier to project next year's sales."
   ]
  },
  {
   "cell_type": "code",
   "execution_count": 54,
   "metadata": {},
   "outputs": [
    {
     "name": "stdout",
     "output_type": "stream",
     "text": [
      "[1.0775     1.00833333 0.99333333]\n"
     ]
    }
   ],
   "source": [
    "# Find the mean sales projection multiplier for each industry; save in an array called mean_multipliers.\n",
    "# Find the mean sales projection multiplier for each industry\n",
    "mean_multipliers = monthly_industry_multipliers.mean(axis=0)\n",
    "print(mean_multipliers)"
   ]
  },
  {
   "cell_type": "code",
   "execution_count": 55,
   "metadata": {},
   "outputs": [
    {
     "name": "stdout",
     "output_type": "stream",
     "text": [
      "(3,) (12, 3)\n"
     ]
    }
   ],
   "source": [
    "# Print the shapes of mean_multipliers and monthly_sales to ensure they are suitable for broadcasting.\n",
    "# Print the shapes of mean_multipliers and monthly_sales\n",
    "print(mean_multipliers.shape,monthly_sales.shape)"
   ]
  },
  {
   "cell_type": "code",
   "execution_count": 57,
   "metadata": {},
   "outputs": [
    {
     "name": "stdout",
     "output_type": "stream",
     "text": [
      "[[ 4454.385      24124.375       8599.28666667]\n",
      " [ 4434.99       24073.95833333  9081.05333333]\n",
      " [ 5035.1575     27423.64166667 10574.03333333]\n",
      " [ 4934.95       25850.64166667 10386.29333333]\n",
      " [ 5504.9475     28228.29166667 11223.67333333]\n",
      " [ 5399.3525     27647.49166667 10554.16666667]\n",
      " [ 5651.4875     27532.54166667 10559.13333333]\n",
      " [ 5678.425      27991.33333333 11473.        ]\n",
      " [ 5042.7        25196.23333333  9696.92      ]\n",
      " [ 5293.7575     26017.01666667 10386.29333333]\n",
      " [ 5723.68       25616.70833333 13311.66      ]\n",
      " [ 7143.825      28028.64166667 18280.31333333]]\n"
     ]
    }
   ],
   "source": [
    "# Multiply each monthly sales value by the mean multiplier you found for that industry; save in an array called projected_sales.\n",
    "# Multiply each value by the multiplier for that industry\n",
    "projected_sales = monthly_sales*mean_multipliers\n",
    "print(projected_sales)"
   ]
  }
 ],
 "metadata": {
  "kernelspec": {
   "display_name": "Python 3.10.6 64-bit (windows store)",
   "language": "python",
   "name": "python3"
  },
  "language_info": {
   "codemirror_mode": {
    "name": "ipython",
    "version": 3
   },
   "file_extension": ".py",
   "mimetype": "text/x-python",
   "name": "python",
   "nbconvert_exporter": "python",
   "pygments_lexer": "ipython3",
   "version": "3.10.6"
  },
  "orig_nbformat": 4,
  "vscode": {
   "interpreter": {
    "hash": "5c1f741a4f83aa020b4b2a4d7353a073a4e5e4a855a3258a20da40294ddbf005"
   }
  }
 },
 "nbformat": 4,
 "nbformat_minor": 2
}
