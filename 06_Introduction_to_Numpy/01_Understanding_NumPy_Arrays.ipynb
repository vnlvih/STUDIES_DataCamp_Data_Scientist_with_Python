{
 "cells": [
  {
   "cell_type": "code",
   "execution_count": 2,
   "metadata": {},
   "outputs": [],
   "source": [
    "import numpy as np\n",
    "import pandas as pd\n",
    "import matplotlib.pyplot as plt"
   ]
  },
  {
   "cell_type": "markdown",
   "metadata": {},
   "source": [
    "### Your first NumPy array\n",
    "Once you're comfortable with NumPy  you'll find yourself converting Python lists into NumPy arrays all the time for increased speed and access to NumPy's excellent array methods.\n",
    "\n",
    "You're going to change sudoku_list into a NumPy array so you can practice with it in later lessons  for example by creating a 4D array of sudoku games along with their solutions!"
   ]
  },
  {
   "cell_type": "code",
   "execution_count": 4,
   "metadata": {},
   "outputs": [],
   "source": [
    "sudoku_list = [0, 0, 4, 3, 0, 0, 2, 0, 9, 0, 0, 5, 0, 0, 9, 0, 0, 1,\n",
    "               0, 7, 0, 0, 6, 0, 0, 4, 3,0, 0, 6, 0, 0, 2, 0, 8, 7,1,\n",
    "               9, 0, 0, 0, 7, 4, 0, 0,0, 5, 0, 0, 8, 3, 0, 0, 0,6, 0,\n",
    "               0, 0, 0, 0, 1, 0, 5,0, 0, 3, 5, 0, 8, 6, 9, 0,0, 4, 2,\n",
    "               9, 1, 0, 3, 0, 0]"
   ]
  },
  {
   "cell_type": "code",
   "execution_count": 5,
   "metadata": {},
   "outputs": [
    {
     "name": "stdout",
     "output_type": "stream",
     "text": [
      "<class 'numpy.ndarray'>\n"
     ]
    }
   ],
   "source": [
    "# Import NumPy using its generally accepted alias.\n",
    "# Convert sudoku_list into a NumPy array called sudoku_array.\n",
    "# Print the class type() of sudoku_array to check that your code has worked properly.\n",
    "\n",
    "# Import NumPy\n",
    "import numpy as np\n",
    "\n",
    "# Convert sudoku_list into an array\n",
    "sudoku_array = np.array(sudoku_list)\n",
    "\n",
    "# Print the type of sudoku_array\n",
    "print(type(sudoku_array))"
   ]
  },
  {
   "cell_type": "markdown",
   "metadata": {},
   "source": [
    "### Creating arrays from scratch\n",
    "It can be helpful to know how to create quick NumPy arrays from scratch in order to test your code. For example  when you are doing math with large multi-dimensional arrays  it's nice to check whether the math works as expected on small test arrays before applying your code to the larger arrays. NumPy has many options for creating smaller synthetic arrays."
   ]
  },
  {
   "cell_type": "code",
   "execution_count": 8,
   "metadata": {},
   "outputs": [
    {
     "name": "stdout",
     "output_type": "stream",
     "text": [
      "[[0. 0. 0. 0.]\n",
      " [0. 0. 0. 0.]]\n"
     ]
    }
   ],
   "source": [
    "# Create and print an array filled with zeros called zero_array  which has two rows and four columns.\n",
    "# Create an array of zeros which has four columns and two rows\n",
    "zero_array = np.zeros((2,4))\n",
    "print(zero_array)"
   ]
  },
  {
   "cell_type": "code",
   "execution_count": 9,
   "metadata": {},
   "outputs": [
    {
     "name": "stdout",
     "output_type": "stream",
     "text": [
      "[[0.18160854 0.49418269 0.66123405 0.44496337 0.0966966  0.5899377 ]\n",
      " [0.30325146 0.96346633 0.47275045 0.7106307  0.20853568 0.38138382]\n",
      " [0.91011755 0.88287672 0.56703177 0.68553073 0.54092253 0.4631067 ]]\n"
     ]
    }
   ],
   "source": [
    "# Create and print an array of random floats between 0 and 1 called random_array  which has three rows and six columns.\n",
    "# Create an array of random floats which has six columns and three rows\n",
    "random_array = np.random.random((3,6))\n",
    "print(random_array)"
   ]
  },
  {
   "cell_type": "markdown",
   "metadata": {},
   "source": [
    "### A range array\n",
    "np.arange() has especially useful applications in graphing. Your task is to create a scatter plot with the values from doubling_array on the y-axis.\n",
    "\n",
    "        doubling_array = [1  2  4  8  16  32  64  128  256  512]\n",
    "Recall that a scatter plot can be created using the following code:\n",
    "\n",
    "        plt.scatter(x_values  y_values)\n",
    "        plt.show()\n",
    "With doubling_array on the y-axis  you now need values for the x-axis  which you can create with np.arange()!"
   ]
  },
  {
   "cell_type": "code",
   "execution_count": 12,
   "metadata": {},
   "outputs": [
    {
     "data": {
      "image/png": "[encoded data removed]",
      "text/plain": [
       "<Figure size 432x288 with 1 Axes>"
      ]
     },
     "metadata": {
      "needs_background": "light"
     },
     "output_type": "display_data"
    }
   ],
   "source": [
    "# Using np.arange()  create a 1D array called one_to_ten which holds all integers from one to ten (inclusive).\n",
    "# Create a scatterplot with doubling_array as the y values and one_to_ten as the x values.\n",
    "\n",
    "doubling_array = np.array([1, 2, 4, 8, 16, 32, 64 ,128, 256, 512])\n",
    "# Create an array of integers from one to ten\n",
    "one_to_ten = np.arange(1,11)\n",
    "\n",
    "# Create your scatterplot\n",
    "plt.scatter(one_to_ten,doubling_array)\n",
    "plt.show()"
   ]
  },
  {
   "cell_type": "markdown",
   "metadata": {},
   "source": [
    "### 3D array creation\n",
    "In the first lesson  you created a sudoku_game two-dimensional NumPy array. Perhaps you have hundreds of sudoku game arrays  and you'd like to save the solution for this one  sudoku_solution  as part of the same array as its corresponding game in order to organize your sudoku data better. You could accomplish this by stacking the two 2D arrays on top of each other to create a 3D array."
   ]
  },
  {
   "cell_type": "code",
   "execution_count": 27,
   "metadata": {},
   "outputs": [],
   "source": [
    "sudoku_game = [[0, 0, 4, 3, 0, 0, 2, 0, 9],\n",
    "              [0, 0, 5, 0, 0, 9, 0, 0, 1],\n",
    "              [0, 7, 0, 0, 6, 0, 0, 4, 3],\n",
    "              [0, 0, 6, 0, 0, 2, 0, 8, 7],\n",
    "              [1, 9, 0, 0, 0, 7, 4, 0, 0],\n",
    "              [0, 5, 0, 0, 8, 3, 0, 0, 0],\n",
    "              [6, 0, 0, 0, 0, 0, 1, 0, 5],\n",
    "              [0, 0, 3, 5, 0, 8, 6, 9, 0],\n",
    "              [0, 4, 2, 9, 1, 0, 3, 0, 0]]\n",
    "\n",
    "\n",
    "sudoku_solution = [[8, 6, 4, 3, 7, 1, 2, 5, 9],\n",
    "                   [3, 2, 5, 8, 4, 9, 7, 6, 1],\n",
    "                   [9, 7, 1, 2, 6, 5, 8, 4, 3],\n",
    "                   [4, 3, 6, 1, 9, 2, 5, 8, 7],\n",
    "                   [1, 9, 8, 6, 5, 7, 4, 3, 2],\n",
    "                   [2, 5, 7, 4, 8, 3, 9, 1, 6],\n",
    "                   [6, 8, 9, 7, 3, 4, 1, 2, 5],\n",
    "                   [7, 1, 3, 5, 2, 8, 6, 9, 4],\n",
    "                   [5, 4, 2, 9, 1, 6, 3, 7, 8]]\n"
   ]
  },
  {
   "cell_type": "code",
   "execution_count": 28,
   "metadata": {},
   "outputs": [],
   "source": [
    "sudoku_game = np.array(sudoku_game)\n",
    "sudoku_solution = np.array(sudoku_solution)"
   ]
  },
  {
   "cell_type": "code",
   "execution_count": 29,
   "metadata": {},
   "outputs": [
    {
     "name": "stdout",
     "output_type": "stream",
     "text": [
      "[[[0 0 4 3 0 0 2 0 9]\n",
      "  [0 0 5 0 0 9 0 0 1]\n",
      "  [0 7 0 0 6 0 0 4 3]\n",
      "  [0 0 6 0 0 2 0 8 7]\n",
      "  [1 9 0 0 0 7 4 0 0]\n",
      "  [0 5 0 0 8 3 0 0 0]\n",
      "  [6 0 0 0 0 0 1 0 5]\n",
      "  [0 0 3 5 0 8 6 9 0]\n",
      "  [0 4 2 9 1 0 3 0 0]]\n",
      "\n",
      " [[8 6 4 3 7 1 2 5 9]\n",
      "  [3 2 5 8 4 9 7 6 1]\n",
      "  [9 7 1 2 6 5 8 4 3]\n",
      "  [4 3 6 1 9 2 5 8 7]\n",
      "  [1 9 8 6 5 7 4 3 2]\n",
      "  [2 5 7 4 8 3 9 1 6]\n",
      "  [6 8 9 7 3 4 1 2 5]\n",
      "  [7 1 3 5 2 8 6 9 4]\n",
      "  [5 4 2 9 1 6 3 7 8]]]\n"
     ]
    }
   ],
   "source": [
    "# Create a 3D array called game_and_solution by stacking the two 2D arrays, sudoku_game and sudoku_solution, on top of one another; in the final array, sudoku_game should appear before sudoku_solution.\n",
    "# Print game_and_solution.\n",
    "\n",
    "# Create the game_and_solution 3D array\n",
    "game_and_solution = np.array([sudoku_game,sudoku_solution])\n",
    "\n",
    "# Print game_and_solution\n",
    "print(game_and_solution)"
   ]
  },
  {
   "cell_type": "markdown",
   "metadata": {},
   "source": [
    "### The fourth dimension\n",
    "Printing arrays is a good way to check code output for small arrays like sudoku_game_and_solution, but it becomes unwieldy when dealing with bigger arrays and those with higher dimensions. Another important check is to look at the array's .shape."
   ]
  },
  {
   "cell_type": "code",
   "execution_count": 30,
   "metadata": {},
   "outputs": [
    {
     "name": "stdout",
     "output_type": "stream",
     "text": [
      "(2, 2, 9, 9)\n"
     ]
    }
   ],
   "source": [
    "# Create another 3D array called new_game_and_solution with a different 2D game and 2D solution pair: new_sudoku_game and new_sudoku_solution. new_sudoku_game should appear before new_sudoku_solution.\n",
    "# Create a 4D array called games_and_solutions by making an array out of the two 3D arrays: game_and_solution and new_game_and_solution, in that order.\n",
    "# Print the shape of games_and_solutions.\n",
    "\n",
    "new_sudoku_game = np.array([[0, 0, 4, 3, 0, 0, 0, 0, 0],\n",
    "                            [8, 9, 0, 2, 0, 0, 6, 7, 0],\n",
    "                            [7, 0, 0, 9, 0, 0, 0, 5, 0],\n",
    "                            [5, 0, 0, 0, 0, 8, 1, 4, 0],\n",
    "                            [0, 7, 0, 0, 3, 2, 0, 6, 0],\n",
    "                            [6, 0, 0, 0, 0, 1, 3, 0, 8],\n",
    "                            [0, 0, 1, 7, 5, 0, 9, 0, 0],\n",
    "                            [0, 0, 5, 0, 4, 0, 0, 1, 2],\n",
    "                            [9, 8, 0, 0, 0, 6, 0, 0, 5]]\n",
    ")\n",
    "\n",
    "new_sudoku_solution = np.array([[2, 5, 4, 3, 6, 7, 8, 9, 1],\n",
    "                                [8, 9, 3, 2, 1, 5, 6, 7, 4],\n",
    "                                [7, 1, 6, 9, 8, 4, 2, 5, 3],\n",
    "                                [5, 3, 2, 6, 9, 8, 1, 4, 7],\n",
    "                                [1, 7, 8, 4, 3, 2, 5, 6, 9],\n",
    "                                [6, 4, 9, 5, 7, 1, 3, 2, 8],\n",
    "                                [4, 2, 1, 7, 5, 3, 9, 8, 6],\n",
    "                                [3, 6, 5, 8, 4, 9, 7, 1, 2],\n",
    "                                [9, 8, 7, 1, 2, 6, 4, 3, 5]]\n",
    ")\n",
    "\n",
    "# Create a second 3D array of another game and its solution\n",
    "new_game_and_solution = np.array([new_sudoku_game,new_sudoku_solution])\n",
    "\n",
    "# Create a 4D array of both game and solution 3D arrays\n",
    "games_and_solutions = np.array([game_and_solution,new_game_and_solution])\n",
    "\n",
    "# Print the shape of your 4D array\n",
    "print(games_and_solutions.shape)"
   ]
  },
  {
   "cell_type": "code",
   "execution_count": 32,
   "metadata": {},
   "outputs": [
    {
     "data": {
      "text/plain": [
       "array([[0, 0, 4, 3, 0, 0, 2, 0, 9],\n",
       "       [0, 0, 5, 0, 0, 9, 0, 0, 1],\n",
       "       [0, 7, 0, 0, 6, 0, 0, 4, 3],\n",
       "       [0, 0, 6, 0, 0, 2, 0, 8, 7],\n",
       "       [1, 9, 0, 0, 0, 7, 4, 0, 0],\n",
       "       [0, 5, 0, 0, 8, 3, 0, 0, 0],\n",
       "       [6, 0, 0, 0, 0, 0, 1, 0, 5],\n",
       "       [0, 0, 3, 5, 0, 8, 6, 9, 0],\n",
       "       [0, 4, 2, 9, 1, 0, 3, 0, 0]])"
      ]
     },
     "execution_count": 32,
     "metadata": {},
     "output_type": "execute_result"
    }
   ],
   "source": [
    "sudoku_game"
   ]
  },
  {
   "cell_type": "markdown",
   "metadata": {},
   "source": [
    "### Flattening and reshaping\n",
    "You've learned to change not only array shape but also the number of dimensions that an array has. To test these skills, you'll change sudoku_game from a 2D array to a 1D array and back again. Can we trust NumPy to keep the array elements in the same order after being flattened and reshaped? Time to find out."
   ]
  },
  {
   "cell_type": "code",
   "execution_count": 34,
   "metadata": {},
   "outputs": [
    {
     "name": "stdout",
     "output_type": "stream",
     "text": [
      "(81,)\n"
     ]
    }
   ],
   "source": [
    "# Flatten sudoku_game so that it is a 1D array, and save it as flattened_game.\n",
    "# Print the .shape of flattened_game.\n",
    "\n",
    "# Flatten sudoku_game\n",
    "flattened_game = sudoku_game.flatten()\n",
    "\n",
    "# Print the shape of flattened_game\n",
    "print(flattened_game.shape)"
   ]
  },
  {
   "cell_type": "code",
   "execution_count": 37,
   "metadata": {},
   "outputs": [
    {
     "name": "stdout",
     "output_type": "stream",
     "text": [
      "(81,)\n",
      "[[0 0 4 3 0 0 2 0 9]\n",
      " [0 0 5 0 0 9 0 0 1]\n",
      " [0 7 0 0 6 0 0 4 3]\n",
      " [0 0 6 0 0 2 0 8 7]\n",
      " [1 9 0 0 0 7 4 0 0]\n",
      " [0 5 0 0 8 3 0 0 0]\n",
      " [6 0 0 0 0 0 1 0 5]\n",
      " [0 0 3 5 0 8 6 9 0]\n",
      " [0 4 2 9 1 0 3 0 0]]\n",
      "[[0 0 4 3 0 0 2 0 9]\n",
      " [0 0 5 0 0 9 0 0 1]\n",
      " [0 7 0 0 6 0 0 4 3]\n",
      " [0 0 6 0 0 2 0 8 7]\n",
      " [1 9 0 0 0 7 4 0 0]\n",
      " [0 5 0 0 8 3 0 0 0]\n",
      " [6 0 0 0 0 0 1 0 5]\n",
      " [0 0 3 5 0 8 6 9 0]\n",
      " [0 4 2 9 1 0 3 0 0]]\n"
     ]
    }
   ],
   "source": [
    "# Reshape the flattened_game back to its original shape of nine rows and nine columns; save the new array as reshaped_game.\n",
    "\n",
    "# Flatten sudoku_game\n",
    "flattened_game = sudoku_game.flatten()\n",
    "\n",
    "# Print the shape of flattened_game\n",
    "print(flattened_game.shape)\n",
    "\n",
    "# Reshape flattened_game back to a nine by nine array\n",
    "reshaped_game = flattened_game.reshape(9,9)\n",
    "\n",
    "# Print sudoku_game and reshaped_game\n",
    "print(sudoku_game)\n",
    "print(reshaped_game)"
   ]
  },
  {
   "cell_type": "markdown",
   "metadata": {},
   "source": [
    "### The dtype argument\n",
    "One way to control the data type of a NumPy array is to declare it when the array is created using the dtype keyword argument. Take a look at the data type NumPy uses by default when creating an array with np.zeros(). Could it be updated?"
   ]
  },
  {
   "cell_type": "code",
   "execution_count": 39,
   "metadata": {},
   "outputs": [
    {
     "name": "stdout",
     "output_type": "stream",
     "text": [
      "float64\n"
     ]
    }
   ],
   "source": [
    "# Using np.zeros(), create an array of zeros that has three rows and two columns; call it zero_array.\n",
    "# Print the data type of zero_array.\n",
    "\n",
    "# Create an array of zeros with three rows and two columns\n",
    "zero_array = np.zeros((3,2))\n",
    "\n",
    "# Print the data type of zero_array\n",
    "print(zero_array.dtype)"
   ]
  },
  {
   "cell_type": "code",
   "execution_count": 40,
   "metadata": {},
   "outputs": [
    {
     "name": "stdout",
     "output_type": "stream",
     "text": [
      "int32\n"
     ]
    }
   ],
   "source": [
    "# Create a new array of zeros called zero_int_array, which will also have three rows and two columns, but the data type should be np.int32.\n",
    "# Print the data type of zero_int_array.\n",
    "\n",
    "# Create a new array of int32 zeros with three rows and two columns\n",
    "zero_int_array = np.zeros((3,2), dtype='int32')\n",
    "\n",
    "# Print the data type of zero_int_array\n",
    "print(zero_int_array.dtype)"
   ]
  },
  {
   "cell_type": "code",
   "execution_count": 46,
   "metadata": {},
   "outputs": [
    {
     "data": {
      "text/plain": [
       "dtype('int8')"
      ]
     },
     "execution_count": 46,
     "metadata": {},
     "output_type": "execute_result"
    }
   ],
   "source": [
    "np.array([45.67,True],dtype=np.int8).dtype"
   ]
  },
  {
   "cell_type": "markdown",
   "metadata": {},
   "source": [
    "### A smaller sudoku game\n",
    "NumPy data types, which emphasize speed, are more specific than Python data types, which emphasize flexibility. When working with large amounts of data in NumPy, it's good practice to check the data type and consider whether a smaller data type is large enough for your data, since smaller data types use less memory.\n",
    "\n",
    "It's time to make your sudoku game more memory-efficient using your knowledge of data types!"
   ]
  },
  {
   "cell_type": "code",
   "execution_count": 47,
   "metadata": {},
   "outputs": [
    {
     "name": "stdout",
     "output_type": "stream",
     "text": [
      "int32\n"
     ]
    }
   ],
   "source": [
    "# Print the data type of sudoku_game\n",
    "print(sudoku_game.dtype)"
   ]
  },
  {
   "cell_type": "code",
   "execution_count": 48,
   "metadata": {},
   "outputs": [
    {
     "name": "stdout",
     "output_type": "stream",
     "text": [
      "int8\n"
     ]
    }
   ],
   "source": [
    "# Change the data type of sudoku_game to be int8, an 8-bit integer; name the new array small_sudoku_game.\n",
    "# Print the data type of small_sudoku_game to be sure that your change to int8 is reflected.\n",
    "\n",
    "# Change the data type of sudoku_game to int8\n",
    "small_sudoku_game = sudoku_game.astype('int8')\n",
    "\n",
    "# Print the data type of small_sudoku_game\n",
    "print(small_sudoku_game.dtype)"
   ]
  }
 ],
 "metadata": {
  "kernelspec": {
   "display_name": "Python 3.10.6 64-bit (windows store)",
   "language": "python",
   "name": "python3"
  },
  "language_info": {
   "codemirror_mode": {
    "name": "ipython",
    "version": 3
   },
   "file_extension": ".py",
   "mimetype": "text/x-python",
   "name": "python",
   "nbconvert_exporter": "python",
   "pygments_lexer": "ipython3",
   "version": "3.10.6"
  },
  "orig_nbformat": 4,
  "vscode": {
   "interpreter": {
    "hash": "5c1f741a4f83aa020b4b2a4d7353a073a4e5e4a855a3258a20da40294ddbf005"
   }
  }
 },
 "nbformat": 4,
 "nbformat_minor": 2
}
